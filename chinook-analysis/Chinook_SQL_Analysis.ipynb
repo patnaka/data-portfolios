{
  "nbformat": 4,
  "nbformat_minor": 0,
  "metadata": {
    "colab": {
      "provenance": [],
      "authorship_tag": "ABX9TyO51TbAT8V7LEnG+w5JwwnD",
      "include_colab_link": true
    },
    "kernelspec": {
      "name": "python3",
      "display_name": "Python 3"
    },
    "language_info": {
      "name": "python"
    }
  },
  "cells": [
    {
      "cell_type": "markdown",
      "metadata": {
        "id": "view-in-github",
        "colab_type": "text"
      },
      "source": [
        "<a href=\"https://colab.research.google.com/github/patnaka/data-portfolios/blob/main/chinook-analysis/Chinook_SQL_Analysis.ipynb\" target=\"_parent\"><img src=\"https://colab.research.google.com/assets/colab-badge.svg\" alt=\"Open In Colab\"/></a>"
      ]
    },
    {
      "cell_type": "code",
      "execution_count": null,
      "metadata": {
        "id": "6spWPBllZxba"
      },
      "outputs": [],
      "source": [
        "import sqlite3\n",
        "import pandas as pd\n",
        "\n",
        "conn = sqlite3.connect('chinook.db')\n",
        "\n",
        "queries = {\n",
        "    'total_revenue_customers': '''SELECT\n",
        "                                    sum(total) as Revenue,\n",
        "\t                                sum(customerid) as Total_Customers\n",
        "\t                            from invoices;''',\n",
        "    'top_customers_by_spending': '''SELECT\n",
        "                                    cu.firstname || ' ' || cu.lastname as Customer_name,\n",
        "                                    round(sum(invi.unitprice * invi.quantity), 2) as Total_spent\n",
        "                                from customers as cu\n",
        "                                    JOIN invoices \t    as inv \ton cu.CustomerId = inv.CustomerId\n",
        "                                    Join invoice_items \tas invi on inv.InvoiceId = invi.InvoiceId\n",
        "                                GROUP BY 1\n",
        "                                ORDER BY 2 DESC\n",
        "                                Limit 10;''',\n",
        "    'top_selling_artists': '''SELECT\n",
        "                                ar.name as Artist,\n",
        "                                sum(invi.quantity) as Units_Sold\n",
        "                            from artists as ar\n",
        "                                JOIN albums as al on ar.ArtistId = al.ArtistId\n",
        "                                Join tracks as tr on al.AlbumId = tr.AlbumId\n",
        "                                JOIN invoice_items as invi on tr.TrackId = invi.TrackId\n",
        "                            GROUP BY 1\n",
        "                            ORDER BY 2 DESC\n",
        "                            Limit 10;''',\n",
        "    'top_selling_genres': '''SELECT\n",
        "                                ge.name as Genre_name,\n",
        "                                sum(invi.quantity) as Units_Sold\n",
        "                            from genres as ge\n",
        "                                Join tracks        as tr   on ge.GenreId = tr.GenreId\n",
        "                                JOIN invoice_items as invi on tr.TrackId = invi.TrackId\n",
        "                            GROUP BY 1\n",
        "                            ORDER BY 2 DESC\n",
        "                            Limit 10;''',\n",
        "    'total_songs_of_each_genres': '''SELECT\n",
        "                                        ge.Name AS Genre_name,\n",
        "                                        COUNT(tr.TrackId) AS Total_Songs\n",
        "                                    FROM genres AS ge\n",
        "                                    JOIN tracks AS tr ON ge.GenreId = tr.GenreId\n",
        "                                    GROUP BY 1\n",
        "                                    ORDER by 2 DESC;''',\n",
        "    'monthly_revenue_trends_2011_2013': '''SELECT\n",
        "                                                strftime('%Y-%m', InvoiceDate) AS Monthid,\n",
        "                                                sum(total) as Revenue\n",
        "                                            from invoices\n",
        "                                            WHERE strftime('%Y', InvoiceDate) in ('2011', '2012', '2013')\n",
        "                                            GROUP by 1;''',\n",
        "    'customer_geography_spend_over_100': '''SELECT\n",
        "                                                cu.Country AS Customer_country,\n",
        "                                                round(SUM(invi.UnitPrice * invi.Quantity), 2) AS Total_spent\n",
        "                                            FROM customers AS cu\n",
        "                                            JOIN invoices      AS inv  ON cu.CustomerId = inv.CustomerId\n",
        "                                            JOIN invoice_items AS invi ON inv.InvoiceId = invi.InvoiceId\n",
        "                                            GROUP BY cu.Country\n",
        "                                            HAVING Total_spent >= 100\n",
        "                                            ORDER BY Total_spent DESC;'''\n",
        "}\n",
        "\n",
        "for chinook_analyse, query in queries.items():\n",
        "    df = pd.read_sql_query(query, conn)\n",
        "    df.to_csv(f'{chinook_analyse}.csv', index=False)"
      ]
    }
  ]
}